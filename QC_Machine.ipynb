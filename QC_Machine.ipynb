{
 "cells": [
  {
   "cell_type": "markdown",
   "id": "c44f3c10",
   "metadata": {},
   "source": [
    "# QC AND RENAME TOOL"
   ]
  },
  {
   "cell_type": "code",
   "execution_count": null,
   "id": "ee9227f5",
   "metadata": {
    "code_folding": [
     3,
     38,
     68
    ],
    "jupyter": {
     "source_hidden": true
    }
   },
   "outputs": [],
   "source": [
    "import os\n",
    "import webbrowser\n",
    "\n",
    "def process_pdf_files(directory_path):\n",
    "    files = [f for f in os.listdir(directory_path) if os.path.isfile(os.path.join(directory_path, f)) and f.endswith('.pdf')]\n",
    "    index = 0\n",
    "    while index < len(files):\n",
    "        filename = files[index]\n",
    "        full_path = os.path.join(directory_path, filename)\n",
    "        print(f\"Current file: {filename}\")\n",
    "        webbrowser.open(full_path)  # Open the PDF file\n",
    "\n",
    "        status = input(\"Enter 'C' if the file is Completed, 'R' if it Needs Revision, 'S' to Skip, 'B' to go Back: \").upper()\n",
    "\n",
    "        if status == 'C':\n",
    "            new_name = filename.rsplit('.', 1)[0] + \" (Completed).\" + filename.split('.')[-1]\n",
    "        elif status == 'R':\n",
    "            reason = input(\"Enter a quick reason for revision: \").strip().replace(\" \", \"_\")\n",
    "            new_name = filename.rsplit('.', 1)[0] + f\" (Needs Revision - {reason}).\" + filename.split('.')[-1]\n",
    "        elif status == 'S':\n",
    "            print(\"Skipping file.\\n\")\n",
    "            index += 1\n",
    "            continue\n",
    "        elif status == 'B' and index > 0:\n",
    "            index -= 1  # Go back to the previous file\n",
    "            continue\n",
    "        else:\n",
    "            print(\"Invalid input. Skipping file.\\n\")\n",
    "            index += 1\n",
    "            continue\n",
    "\n",
    "        try:\n",
    "            os.rename(full_path, os.path.join(directory_path, new_name))\n",
    "            print(f\"{filename} has been renamed to {new_name}\\n\")\n",
    "        except Exception as e:\n",
    "            print(f\"Error renaming file {filename}: {e}\")\n",
    "        index += 1\n",
    "\n",
    "def rename_all_files(directory_path):\n",
    "    files = [f for f in os.listdir(directory_path) if os.path.isfile(os.path.join(directory_path, f))]\n",
    "    index = 0\n",
    "    while index < len(files):\n",
    "        filename = files[index]\n",
    "        full_path = os.path.join(directory_path, filename)\n",
    "        print(f\"Current file: {filename}\")\n",
    "\n",
    "        if filename.endswith('.pdf'):\n",
    "            webbrowser.open(full_path)  # Open the PDF file\n",
    "\n",
    "        new_name = input(\"Enter the new name for this file, 'B' to go back (press Enter to skip): \").strip()\n",
    "        if new_name.upper() == 'B' and index > 0:\n",
    "            index -= 1  # Go back to the previous file\n",
    "            continue\n",
    "        elif not new_name:\n",
    "            print(\"Skipping file.\\n\")\n",
    "            index += 1\n",
    "            continue\n",
    "\n",
    "        file_extension = filename.split('.')[-1]\n",
    "        new_name_with_extension = f\"{new_name}.{file_extension}\"\n",
    "\n",
    "        try:\n",
    "            os.rename(full_path, os.path.join(directory_path, new_name_with_extension))\n",
    "            print(f\"{filename} has been renamed to {new_name_with_extension}\\n\")\n",
    "        except Exception as e:\n",
    "            print(f\"Error renaming file {filename}: {e}\")\n",
    "        index += 1\n",
    "\n",
    "if __name__ == \"__main__\":\n",
    "    directory_path = input(\"Enter the full path of the directory containing the files: \").strip().replace(\"\\\\\", \"/\")\n",
    "    choice = input(\"Enter '1' to process PDF files, '2' to rename all files in the folder: \").strip()\n",
    "\n",
    "    if choice == '1':\n",
    "        process_pdf_files(directory_path)\n",
    "    elif choice == '2':\n",
    "        rename_all_files(directory_path)\n",
    "    else:\n",
    "        print(\"Invalid choice. Exiting.\")\n"
   ]
  },
  {
   "cell_type": "markdown",
   "id": "a32255af",
   "metadata": {},
   "source": [
    "# STATUS CHECK TOOL"
   ]
  },
  {
   "cell_type": "markdown",
   "id": "90ef223d",
   "metadata": {},
   "source": [
    "This tool will export a list of all files contained within the manager folders"
   ]
  },
  {
   "cell_type": "code",
   "execution_count": 1,
   "id": "a9ff6e10",
   "metadata": {
    "code_folding": [
     5
    ],
    "jupyter": {
     "source_hidden": true
    }
   },
   "outputs": [
    {
     "data": {
      "application/vnd.jupyter.widget-view+json": {
       "model_id": "6b3a32885ab24ff380e9b87bb3cf106f",
       "version_major": 2,
       "version_minor": 0
      },
      "text/plain": [
       "Text(value='', placeholder='Enter directory path')"
      ]
     },
     "metadata": {},
     "output_type": "display_data"
    },
    {
     "data": {
      "application/vnd.jupyter.widget-view+json": {
       "model_id": "a035cff6e686456f8bf66dfa2bb3324f",
       "version_major": 2,
       "version_minor": 0
      },
      "text/plain": [
       "Text(value='', placeholder='Enter file name')"
      ]
     },
     "metadata": {},
     "output_type": "display_data"
    },
    {
     "data": {
      "application/vnd.jupyter.widget-view+json": {
       "model_id": "f765e0e1c09644798b62557a28808cf7",
       "version_major": 2,
       "version_minor": 0
      },
      "text/plain": [
       "Button(description='List Files to CSV', style=ButtonStyle())"
      ]
     },
     "metadata": {},
     "output_type": "display_data"
    },
    {
     "data": {
      "application/vnd.jupyter.widget-view+json": {
       "model_id": "c81f21da7a4e4f18816f833343d17a7c",
       "version_major": 2,
       "version_minor": 0
      },
      "text/plain": [
       "Output()"
      ]
     },
     "metadata": {},
     "output_type": "display_data"
    }
   ],
   "source": [
    "import os\n",
    "import csv\n",
    "import ipywidgets as widgets\n",
    "from IPython.display import display, clear_output\n",
    "\n",
    "def list_files_to_csv_ui():\n",
    "    csv_folder_path = r\"C:\\Users\\cwchen\\Desktop\\Received TimeSheets\"  # Predefined save location\n",
    "    \n",
    "    directory_path = dir_input.value.strip()\n",
    "    csv_file_name = csv_name_input.value.strip()\n",
    "    if not csv_file_name.endswith('.csv'):\n",
    "        csv_file_name += '.csv'\n",
    "    \n",
    "    csv_file_path = os.path.join(csv_folder_path, csv_file_name)\n",
    "    \n",
    "    try:\n",
    "        with open(csv_file_path, mode='w', newline='', encoding='utf-8') as file:\n",
    "            writer = csv.writer(file)\n",
    "            writer.writerow([\"Employee Name\", \"Manager Name\"])\n",
    "            \n",
    "            # Iterate through each manager's folder\n",
    "            for manager_name in os.listdir(directory_path):\n",
    "                manager_folder_path = os.path.join(directory_path, manager_name)\n",
    "                if os.path.isdir(manager_folder_path):  # Ensure it's a folder\n",
    "                    # List each file (employee) in the manager's folder\n",
    "                    for employee_file in os.listdir(manager_folder_path):\n",
    "                        employee_name = os.path.splitext(employee_file)[0]  # Remove file extension, if needed\n",
    "                        writer.writerow([employee_name, manager_name])\n",
    "        \n",
    "        with output:\n",
    "            clear_output()\n",
    "            print(f\"Success! All employee names and their managers have been written to '{csv_file_path}'.\")\n",
    "    except Exception as e:\n",
    "        with output:\n",
    "            clear_output()\n",
    "            print(f\"An error occurred: {e}\")\n",
    "\n",
    "# UI components as previously defined\n",
    "dir_input = widgets.Text(placeholder=\"Enter directory path\")\n",
    "csv_name_input = widgets.Text(placeholder=\"Enter file name\")\n",
    "list_button = widgets.Button(description=\"List Files to CSV\")\n",
    "output = widgets.Output()\n",
    "\n",
    "list_button.on_click(lambda b: list_files_to_csv_ui())\n",
    "\n",
    "display(dir_input, csv_name_input, list_button, output)\n"
   ]
  },
  {
   "cell_type": "code",
   "execution_count": null,
   "id": "e83788f7",
   "metadata": {
    "jupyter": {
     "source_hidden": true
    }
   },
   "outputs": [],
   "source": []
  },
  {
   "cell_type": "code",
   "execution_count": null,
   "id": "b9fcd7dc",
   "metadata": {
    "jupyter": {
     "source_hidden": true
    }
   },
   "outputs": [],
   "source": []
  }
 ],
 "metadata": {
  "kernelspec": {
   "display_name": "Python 3 (ipykernel)",
   "language": "python",
   "name": "python3"
  },
  "language_info": {
   "codemirror_mode": {
    "name": "ipython",
    "version": 3
   },
   "file_extension": ".py",
   "mimetype": "text/x-python",
   "name": "python",
   "nbconvert_exporter": "python",
   "pygments_lexer": "ipython3",
   "version": "3.11.5"
  }
 },
 "nbformat": 4,
 "nbformat_minor": 5
}
